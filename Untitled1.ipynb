{
  "nbformat": 4,
  "nbformat_minor": 0,
  "metadata": {
    "colab": {
      "provenance": [],
      "authorship_tag": "ABX9TyMWTK9njsCXmaYOo8gWxj5H",
      "include_colab_link": true
    },
    "kernelspec": {
      "name": "python3",
      "display_name": "Python 3"
    },
    "language_info": {
      "name": "python"
    }
  },
  "cells": [
    {
      "cell_type": "markdown",
      "metadata": {
        "id": "view-in-github",
        "colab_type": "text"
      },
      "source": [
        "<a href=\"https://colab.research.google.com/github/siva0124/HUNTER-C/blob/main/Untitled1.ipynb\" target=\"_parent\"><img src=\"https://colab.research.google.com/assets/colab-badge.svg\" alt=\"Open In Colab\"/></a>"
      ]
    },
    {
      "cell_type": "code",
      "execution_count": null,
      "metadata": {
        "id": "iSJtC4FavDNd"
      },
      "outputs": [],
      "source": []
    },
    {
      "cell_type": "code",
      "source": [
        "from google.colab import drive\n",
        "drive.mount('/content/drive')"
      ],
      "metadata": {
        "colab": {
          "base_uri": "https://localhost:8080/"
        },
        "id": "duvh77X4vGbx",
        "outputId": "19b4a1ca-035a-473e-ea24-d84338ceeead"
      },
      "execution_count": 1,
      "outputs": [
        {
          "output_type": "stream",
          "name": "stdout",
          "text": [
            "Mounted at /content/drive\n"
          ]
        }
      ]
    },
    {
      "cell_type": "code",
      "source": [
        "import os\n",
        "import numpy as np\n",
        "import cv2\n",
        "from sklearn.svm import SVC\n",
        "from sklearn.metrics import accuracy_score\n",
        "from tensorflow.keras.applications import ResNet50\n",
        "from tensorflow.keras.applications.resnet50 import preprocess_input\n",
        "from tensorflow.keras.preprocessing.image import load_img, img_to_array\n",
        "from tensorflow.keras.models import Model\n",
        "from tensorflow.keras.utils import to_categorical\n",
        "\n",
        "# Paths\n",
        "test_images_path = \"/content/drive/MyDrive/skin cancer detection/test/images\"\n",
        "test_labels_path = \"/content/drive/MyDrive/skin cancer detection/test/labels\"\n",
        "train_images_path = \"/content/drive/MyDrive/skin cancer detection/train/images\"\n",
        "train_labels_path = \"/content/drive/MyDrive/skin cancer detection/train/labels\"\n",
        "valid_images_path = \"/content/drive/MyDrive/skin cancer detection/valid/images\"\n",
        "valid_labels_path = \"/content/drive/MyDrive/skin cancer detection/valid/labels\"\n",
        "\n",
        "# Load labels\n",
        "def load_labels(labels_dir):\n",
        "    labels = []\n",
        "    label_files = sorted(os.listdir(labels_dir))\n",
        "    for label_file in label_files:\n",
        "        label_path = os.path.join(labels_dir, label_file)\n",
        "        with open(label_path, 'r') as file:\n",
        "            first_value = file.read().strip().split()[0]  # Extract the first value\n",
        "            labels.append(int(float(first_value)))  # Convert to integer\n",
        "    return np.array(labels)\n",
        "\n",
        "# Load images and extract features using ResNet50\n",
        "def load_images_and_extract_features(images_path, labels_path, model):\n",
        "    images = []\n",
        "    labels = load_labels(labels_path)\n",
        "    image_files = sorted(os.listdir(images_path))\n",
        "    for img_name in image_files:\n",
        "        img_path = os.path.join(images_path, img_name)\n",
        "        img = load_img(img_path, target_size=(224, 224))\n",
        "        img_array = img_to_array(img)\n",
        "        img_array = preprocess_input(img_array)\n",
        "        images.append(img_array)\n",
        "    images = np.array(images)\n",
        "    features = model.predict(images)\n",
        "    return features, labels\n",
        "\n",
        "# Load pre-trained ResNet50 model for feature extraction\n",
        "base_model = ResNet50(weights='imagenet', include_top=False, pooling='avg')\n",
        "feature_extractor = Model(inputs=base_model.input, outputs=base_model.output)\n",
        "\n",
        "# Load training data\n",
        "X_train, y_train = load_images_and_extract_features(train_images_path, train_labels_path, feature_extractor)\n",
        "# Load validation data\n",
        "X_valid, y_valid = load_images_and_extract_features(valid_images_path, valid_labels_path, feature_extractor)\n",
        "# Load test data\n",
        "X_test, y_test = load_images_and_extract_features(test_images_path, test_labels_path, feature_extractor)\n",
        "\n",
        "# Train SVM classifier\n",
        "svm = SVC(kernel='linear', probability=True)\n",
        "svm.fit(X_train, y_train)\n",
        "\n",
        "# Evaluate on validation set\n",
        "y_valid_pred = svm.predict(X_valid)\n",
        "valid_accuracy = accuracy_score(y_valid, y_valid_pred)\n",
        "print(f'Validation Accuracy: {valid_accuracy:.4f}')\n",
        "\n",
        "# Evaluate on test set\n",
        "y_test_pred = svm.predict(X_test)\n",
        "test_accuracy = accuracy_score(y_test, y_test_pred)\n",
        "print(f'Test Accuracy: {test_accuracy:.4f}')\n"
      ],
      "metadata": {
        "colab": {
          "base_uri": "https://localhost:8080/"
        },
        "id": "u27iDcFMvlxJ",
        "outputId": "e72aaa9a-cd5d-4c26-ce08-689cdb2e5b3d"
      },
      "execution_count": 4,
      "outputs": [
        {
          "output_type": "stream",
          "name": "stdout",
          "text": [
            "\u001b[1m45/45\u001b[0m \u001b[32m━━━━━━━━━━━━━━━━━━━━\u001b[0m\u001b[37m\u001b[0m \u001b[1m237s\u001b[0m 5s/step\n",
            "\u001b[1m13/13\u001b[0m \u001b[32m━━━━━━━━━━━━━━━━━━━━\u001b[0m\u001b[37m\u001b[0m \u001b[1m69s\u001b[0m 5s/step\n",
            "\u001b[1m7/7\u001b[0m \u001b[32m━━━━━━━━━━━━━━━━━━━━\u001b[0m\u001b[37m\u001b[0m \u001b[1m35s\u001b[0m 5s/step\n",
            "Validation Accuracy: 0.9220\n",
            "Test Accuracy: 0.9220\n"
          ]
        }
      ]
    },
    {
      "cell_type": "code",
      "source": [
        "import os\n",
        "import numpy as np\n",
        "import cv2\n",
        "import matplotlib.pyplot as plt\n",
        "from sklearn.svm import SVC\n",
        "from sklearn.metrics import accuracy_score, classification_report, confusion_matrix, roc_curve, auc\n",
        "from tensorflow.keras.applications import ResNet50\n",
        "from tensorflow.keras.applications.resnet50 import preprocess_input\n",
        "from tensorflow.keras.preprocessing.image import load_img, img_to_array\n",
        "from tensorflow.keras.models import Model\n",
        "from tensorflow.keras.utils import to_categorical\n",
        "\n",
        "# Paths\n",
        "test_images_path = \"/content/drive/MyDrive/skin cancer detection/test/images\"\n",
        "test_labels_path = \"/content/drive/MyDrive/skin cancer detection/test/labels\"\n",
        "train_images_path = \"/content/drive/MyDrive/skin cancer detection/train/images\"\n",
        "train_labels_path = \"/content/drive/MyDrive/skin cancer detection/train/labels\"\n",
        "valid_images_path = \"/content/drive/MyDrive/skin cancer detection/valid/images\"\n",
        "valid_labels_path = \"/content/drive/MyDrive/skin cancer detection/valid/labels\"\n",
        "\n",
        "# Load labels\n",
        "def load_labels(labels_dir):\n",
        "    labels = []\n",
        "    label_files = sorted(os.listdir(labels_dir))\n",
        "    for label_file in label_files:\n",
        "        label_path = os.path.join(labels_dir, label_file)\n",
        "        with open(label_path, 'r') as file:\n",
        "            first_value = file.read().strip().split()[0]  # Extract the first value\n",
        "            labels.append(int(float(first_value)))  # Convert to integer\n",
        "    return np.array(labels)\n",
        "\n",
        "# Load images and extract features using ResNet50\n",
        "def load_images_and_extract_features(images_path, labels_path, model):\n",
        "    images = []\n",
        "    labels = load_labels(labels_path)\n",
        "    image_files = sorted(os.listdir(images_path))\n",
        "    for img_name in image_files:\n",
        "        img_path = os.path.join(images_path, img_name)\n",
        "        img = load_img(img_path, target_size=(224, 224))\n",
        "        img_array = img_to_array(img)\n",
        "        img_array = preprocess_input(img_array)\n",
        "        images.append(img_array)\n",
        "    images = np.array(images)\n",
        "    features = model.predict(images)\n",
        "    return features, labels\n",
        "\n",
        "# Load pre-trained ResNet50 model for feature extraction\n",
        "base_model = ResNet50(weights='imagenet', include_top=False, pooling='avg')\n",
        "feature_extractor = Model(inputs=base_model.input, outputs=base_model.output)\n",
        "\n",
        "# Load training data\n",
        "X_train, y_train = load_images_and_extract_features(train_images_path, train_labels_path, feature_extractor)\n",
        "# Load validation data\n",
        "X_valid, y_valid = load_images_and_extract_features(valid_images_path, valid_labels_path, feature_extractor)\n",
        "# Load test data\n",
        "X_test, y_test = load_images_and_extract_features(test_images_path, test_labels_path, feature_extractor)\n",
        "\n",
        "# Train SVM classifier\n",
        "svm = SVC(kernel='linear', probability=True)\n",
        "svm.fit(X_train, y_train)\n",
        "\n",
        "# Evaluate on validation set\n",
        "y_valid_pred = svm.predict(X_valid)\n",
        "valid_accuracy = accuracy_score(y_valid, y_valid_pred)\n",
        "print(f'Validation Accuracy: {valid_accuracy:.4f}')\n",
        "\n",
        "# Evaluate on test set\n",
        "y_test_pred = svm.predict(X_test)\n",
        "test_accuracy = accuracy_score(y_test, y_test_pred)\n",
        "print(f'Test Accuracy: {test_accuracy:.4f}')\n",
        "\n",
        "# Classification report and confusion matrix\n",
        "print(\"Classification Report:\")\n",
        "print(classification_report(y_test, y_test_pred))\n",
        "\n",
        "print(\"Confusion Matrix:\")\n",
        "print(confusion_matrix(y_test, y_test_pred))\n",
        "\n",
        "# ROC Curve\n",
        "y_test_prob = svm.predict_proba(X_test)[:, 1]\n",
        "fpr, tpr, _ = roc_curve(y_test, y_test_prob)\n",
        "roc_auc = auc(fpr, tpr)\n",
        "\n",
        "plt.figure()\n",
        "plt.plot(fpr, tpr, color='blue', lw=2, label=f'ROC curve (area = {roc_auc:.2f})')\n",
        "plt.plot([0, 1], [0, 1], color='gray', linestyle='--')\n",
        "plt.xlim([0.0, 1.0])\n",
        "plt.ylim([0.0, 1.0])\n",
        "plt.xlabel('False Positive Rate')\n",
        "plt.ylabel('True Positive Rate')\n",
        "plt.title('Receiver Operating Characteristic (ROC) Curve')\n",
        "plt.legend(loc='lower right')\n",
        "plt.show()\n"
      ],
      "metadata": {
        "colab": {
          "base_uri": "https://localhost:8080/",
          "height": 784
        },
        "id": "uG1kESco2ema",
        "outputId": "2f30199e-905e-4fb6-ddb7-6380ba825860"
      },
      "execution_count": 5,
      "outputs": [
        {
          "output_type": "stream",
          "name": "stdout",
          "text": [
            "\u001b[1m45/45\u001b[0m \u001b[32m━━━━━━━━━━━━━━━━━━━━\u001b[0m\u001b[37m\u001b[0m \u001b[1m233s\u001b[0m 5s/step\n",
            "\u001b[1m13/13\u001b[0m \u001b[32m━━━━━━━━━━━━━━━━━━━━\u001b[0m\u001b[37m\u001b[0m \u001b[1m67s\u001b[0m 5s/step\n",
            "\u001b[1m7/7\u001b[0m \u001b[32m━━━━━━━━━━━━━━━━━━━━\u001b[0m\u001b[37m\u001b[0m \u001b[1m35s\u001b[0m 5s/step\n",
            "Validation Accuracy: 0.9220\n",
            "Test Accuracy: 0.9220\n",
            "Classification Report:\n",
            "              precision    recall  f1-score   support\n",
            "\n",
            "           0       0.93      0.92      0.92       106\n",
            "           1       0.91      0.93      0.92        99\n",
            "\n",
            "    accuracy                           0.92       205\n",
            "   macro avg       0.92      0.92      0.92       205\n",
            "weighted avg       0.92      0.92      0.92       205\n",
            "\n",
            "Confusion Matrix:\n",
            "[[97  9]\n",
            " [ 7 92]]\n"
          ]
        },
        {
          "output_type": "display_data",
          "data": {
            "text/plain": [
              "<Figure size 640x480 with 1 Axes>"
            ],
            "image/png": "[encoded data removed]"
          },
          "metadata": {}
        }
      ]
    }
  ]
}